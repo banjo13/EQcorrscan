{
 "cells": [
  {
   "cell_type": "markdown",
   "source": [
    "# Matched-filters\n",
    "\n",
    "This notebook will provide a look at using EQcorrscan's Tribe objects for matched-filter detection of earthquakes.\n",
    "\n",
    "This notebook extends on the ideas covered in the [Quick Start](quick_start.ipynb) notebook. In particular this\n",
    "notebook also covers:\n",
    "1. Concurrent execution of detection workflows for more efficient compute utilisation with large datasets;\n",
    "2. Use of local waveform databases using [obsplus](https://github.com/niosh-mining/obsplus);\n",
    "3. Cross-correlation pick-correction using the `lag_calc` method."
   ],
   "metadata": {
    "collapsed": false
   },
   "id": "96a39ad3defaeedc"
  },
  {
   "cell_type": "markdown",
   "source": [
    "## Set up\n",
    "\n",
    "We are going to focus in this notebook on using local data. For examples of how to directly use data from online providers\n",
    "see the [Quick Start](quick_start.ipynb) notebook. \n",
    "\n",
    "To start off we will download some data - in your case this is likely data that you have either downloaded from one or more\n",
    "online providers, or data that you have collected yourself. At the moment we don't care how those data are organised, as long\n",
    "as you have continuous data on disk somewhere. We will use [obsplus](https://github.com/niosh-mining/obsplus) to work out\n",
    "what data are were and provide us with the data that we need when we need it.\n",
    "\n",
    "Obsplus is great and has more functionality than we expose here - if you make use of obsplus, please cite the \n",
    "paper by [Chambers et al., (2021)](https://joss.theoj.org/papers/10.21105/joss.02696).\n",
    "\n",
    "As in the [Quick Start](quick_start.ipynb) example, we will control the output level from EQcorrscan using logging."
   ],
   "metadata": {
    "collapsed": false
   },
   "id": "7c244daa3adde5ea"
  },
  {
   "cell_type": "code",
   "execution_count": 2,
   "outputs": [],
   "source": [
    "import logging\n",
    "\n",
    "logging.basicConfig(\n",
    "    level=logging.INFO,\n",
    "    format=\"%(asctime)s\\t%(name)s\\t%(levelname)s\\t%(message)s\")\n",
    "\n",
    "Logger = logging.getLogger(\"TutorialLogger\")"
   ],
   "metadata": {
    "collapsed": false,
    "ExecuteTime": {
     "end_time": "2023-11-14T23:05:14.485168817Z",
     "start_time": "2023-11-14T23:05:14.439454350Z"
    }
   },
   "id": "afb90fba397b3674"
  },
  {
   "cell_type": "markdown",
   "source": [
    "We will use the March 2023 Kawarau swarm as our case-study for this. This was an energetic swarm that\n",
    "was reported by New Zealand's GeoNet monitoring agency and discussed in a news article [here](https://www.geonet.org.nz/response/VJW80CGEPtq0JPCBHlNaR).\n",
    "\n",
    "We will use data from ten stations over a duration of two days. The swarm lasted longer than this, but\n",
    "we need to limit compute resources for this tutorial! Feel free to change the end-date below to run\n",
    "for longer.  To be kind to GeoNet and not repeatedly get data from their FDSN service we are going to\n",
    "grab a folder of data I downloaded earlier."
   ],
   "metadata": {
    "collapsed": false
   },
   "id": "b4baffba897550b8"
  },
  {
   "cell_type": "code",
   "execution_count": 6,
   "outputs": [
    {
     "data": {
      "text/plain": "('./waveforms', <http.client.HTTPMessage at 0x7fe2c8b28910>)"
     },
     "execution_count": 6,
     "metadata": {},
     "output_type": "execute_result"
    }
   ],
   "source": [
    "%matplotlib inline\n",
    "\n",
    "from obspy import UTCDateTime\n",
    "\n",
    "starttime, endtime = UTCDateTime(2023, 3, 17), UTCDateTime(2023, 3, 19)\n",
    "stations = ['EDRZ', 'KAFS', 'LIRZ', 'MARZ', 'MKRZ', 'MWFS', 'OMRZ', 'OPRZ', 'TARZ', 'WKHS']\n",
    "\n",
    "# Uncomment this if you change starttime, endtime or stations to get the correct data.\n",
    "# import os\n",
    "# from obspy.clients.fdsn import Client\n",
    "# \n",
    "# if not os.path.isdir(\"waveforms\"):\n",
    "#     os.makedirs(\"waveforms\")\n",
    "# client = Client(\"GEONET\")\n",
    "# date, chunk_length = starttime, 3600\n",
    "# while date < endtime:\n",
    "#     for station in stations:\n",
    "#         for instrument in [\"E\", \"H\"]:\n",
    "#             for component in [\"Z\", \"N\", \"E\", \"1\", \"2\"]:\n",
    "#                 channel = f\"{instrument}H{component}\"\n",
    "#                 try:\n",
    "#                     st = client.get_waveforms(\n",
    "#                         starttime=date,\n",
    "#                         endtime=date + chunk_length,\n",
    "#                         station=station,\n",
    "#                         channel=channel,\n",
    "#                         network=\"NZ\", location=\"*\")\n",
    "#                 except Exception as e:\n",
    "#                     Logger.debug(f\"Could not download {station}.{channel} between \"\n",
    "#                                  f\"{date} and {date + chunk_length} due to {e}\")\n",
    "#                     continue\n",
    "#                 st.write(f\"waveforms/{station}.{channel}_{date.strftime('%Y%m%dT%H%M%S')}.ms\", \n",
    "#                          format=\"MSEED\")\n",
    "#     date += chunk_length\n",
    "\n",
    "# Run this if you are just running the example:\n",
    "import urllib.request\n",
    "\n",
    "urllib.request.urlretrieve(\n",
    "    \"https://www.dropbox.com/scl/fo/95l35cq4ucb9yb43ehtng/h?rlkey=mxoka7gakouebh287pqz9nqza&dl=0\",\n",
    "    \"./waveforms\")"
   ],
   "metadata": {
    "collapsed": false,
    "ExecuteTime": {
     "end_time": "2023-11-14T23:53:57.158049048Z",
     "start_time": "2023-11-14T23:53:50.052677621Z"
    }
   },
   "id": "a4182117cbf6692c"
  },
  {
   "cell_type": "code",
   "execution_count": 7,
   "outputs": [
    {
     "name": "stdout",
     "output_type": "stream",
     "text": [
      "clustering.rst  matched-filter.ipynb  quick_start.ipynb  template-creation.rst\r\n",
      "mag-calc.rst    processing_flow.png   subspace.rst       waveforms\r\n"
     ]
    }
   ],
   "source": [
    "ls"
   ],
   "metadata": {
    "collapsed": false,
    "ExecuteTime": {
     "end_time": "2023-11-14T23:54:30.850760283Z",
     "start_time": "2023-11-14T23:54:30.706465451Z"
    }
   },
   "id": "2386f817ee9a4579"
  },
  {
   "cell_type": "code",
   "execution_count": null,
   "outputs": [],
   "source": [],
   "metadata": {
    "collapsed": false
   },
   "id": "422d39dd855950a6"
  }
 ],
 "metadata": {
  "kernelspec": {
   "display_name": "Python 3",
   "language": "python",
   "name": "python3"
  },
  "language_info": {
   "codemirror_mode": {
    "name": "ipython",
    "version": 2
   },
   "file_extension": ".py",
   "mimetype": "text/x-python",
   "name": "python",
   "nbconvert_exporter": "python",
   "pygments_lexer": "ipython2",
   "version": "2.7.6"
  }
 },
 "nbformat": 4,
 "nbformat_minor": 5
}
