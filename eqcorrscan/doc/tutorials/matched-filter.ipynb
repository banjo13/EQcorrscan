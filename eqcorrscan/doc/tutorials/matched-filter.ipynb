{
 "cells": [
  {
   "cell_type": "markdown",
   "source": [
    "# Matched-filters\n",
    "\n",
    "This notebook will provide a look at using EQcorrscan's Tribe objects for matched-filter detection of earthquakes.\n",
    "\n",
    "This notebook extends on the ideas covered in the [Quick Start](quick_start.ipynb) notebook. In particular this\n",
    "notebook also covers:\n",
    "1. Concurrent execution of detection workflows for more efficient compute utilisation with large datasets;\n",
    "2. Use of local waveform databases using [obsplus](https://github.com/niosh-mining/obsplus);\n",
    "3. Cross-correlation pick-correction using the `lag_calc` method."
   ],
   "metadata": {
    "collapsed": false
   },
   "id": "96a39ad3defaeedc"
  },
  {
   "cell_type": "markdown",
   "source": [
    "## Set up\n",
    "\n",
    "We are going to focus in this notebook on using local data. For examples of how to directly use data from online providers\n",
    "see the [Quick Start](quick_start.ipynb) notebook. \n",
    "\n",
    "To start off we will download some data - in your case this is likely data that you have either downloaded from one or more\n",
    "online providers, or data that you have collected yourself. At the moment we don't care how those data are organised, as long\n",
    "as you have continuous data on disk somewhere. We will use [obsplus](https://github.com/niosh-mining/obsplus) to work out\n",
    "what data are were and provide us with the data that we need when we need it.\n",
    "\n",
    "Obsplus is great and has more functionality than we expose here - if you make use of obsplus, please cite the \n",
    "paper by [Chambers et al., (2021)](https://joss.theoj.org/papers/10.21105/joss.02696).\n",
    "\n",
    "As in the [Quick Start](quick_start.ipynb) example, we will control the output level from EQcorrscan using logging."
   ],
   "metadata": {
    "collapsed": false
   },
   "id": "7c244daa3adde5ea"
  },
  {
   "cell_type": "code",
   "execution_count": 1,
   "outputs": [],
   "source": [
    "import logging\n",
    "\n",
    "logging.basicConfig(\n",
    "    level=logging.INFO,\n",
    "    format=\"%(asctime)s\\t%(name)s\\t%(levelname)s\\t%(message)s\")\n",
    "\n",
    "Logger = logging.getLogger(\"TutorialLogger\")"
   ],
   "metadata": {
    "collapsed": false,
    "ExecuteTime": {
     "end_time": "2023-11-16T19:37:33.502304213Z",
     "start_time": "2023-11-16T19:37:33.497694833Z"
    }
   },
   "id": "afb90fba397b3674"
  },
  {
   "cell_type": "markdown",
   "source": [
    "We will use the March 2023 Kawarau swarm as our case-study for this. This was an energetic swarm that\n",
    "was reported by New Zealand's GeoNet monitoring agency and discussed in a news article [here](https://www.geonet.org.nz/response/VJW80CGEPtq0JPCBHlNaR).\n",
    "\n",
    "We will use data from ten stations over a duration of two days. The swarm lasted longer than this, but\n",
    "we need to limit compute resources for this tutorial! Feel free to change the end-date below to run\n",
    "for longer.  To be kind to GeoNet and not repeatedly get data from their FDSN service we are going to get data from the AWS open data bucket. If you don't already have boto3 installed you will need to install that for this sections (`conda install boto3` or `pip install boto3`).\n",
    "\n",
    "NB: If you actually want to access the GeoNet data bucket using Python, a drop-in replacement from FDSN clients exists [here](https://github.com/calum-chamberlain/cjc-utilities/blob/main/src/cjc_utilities/get_data/geonet_aws_client.py)"
   ],
   "metadata": {
    "collapsed": false
   },
   "id": "b4baffba897550b8"
  },
  {
   "cell_type": "code",
   "execution_count": 11,
   "outputs": [],
   "source": [
    "def get_geonet_data(starttime, endtime, stations, outdir):\n",
    "    import os\n",
    "    import boto3\n",
    "    from botocore import UNSIGNED\n",
    "    from botocore.config import Config\n",
    "    \n",
    "    GEONET_AWS = \"geonet-open-data\"\n",
    "    \n",
    "    DAY_STRUCT = \"waveforms/miniseed/{date.year}/{date.year}.{date.julday:03d}\"\n",
    "    CHAN_STRUCT = (\"{station}.{network}/{date.year}.{date.julday:03d}.\"\n",
    "                  \"{station}.{location}-{channel}.{network}.D\")\n",
    "    if not os.path.isdir(outdir):\n",
    "        os.makedirs(outdir)\n",
    "    \n",
    "    bob = boto3.resource('s3', config=Config(signature_version=UNSIGNED))\n",
    "    s3 = bob.Bucket(GEONET_AWS)\n",
    "    \n",
    "    date = starttime\n",
    "    while date < endtime:\n",
    "        day_path = DAY_STRUCT.format(date=date)\n",
    "        for station in stations:\n",
    "            for instrument in \"HE\":\n",
    "                for component in \"ZNE12\":\n",
    "                    channel = f\"{instrument}H{component}\"\n",
    "                    chan_path = CHAN_STRUCT.format(\n",
    "                        station=station, network=\"NZ\",\n",
    "                        date=date, location=\"10\", channel=channel)\n",
    "                    local_path = os.path.join(outdir, chan_path)\n",
    "                    if os.path.isfile(local_path):\n",
    "                        Logger.info(f\"Skipping {local_path}: exists\")\n",
    "                        continue\n",
    "                    os.makedirs(os.path.dirname(local_path), exist_ok=True)\n",
    "                    remote = \"/\".join([day_path, chan_path])\n",
    "                    Logger.debug(f\"Downloading from {remote}\")\n",
    "                    try:\n",
    "                        s3.download_file(remote, local_path)\n",
    "                    except Exception as e:\n",
    "                        Logger.debug(f\"Could not download {remote} due to {e}\")\n",
    "                        continue\n",
    "                    Logger.info(f\"Downloaded {remote}\")\n",
    "        date += 86400"
   ],
   "metadata": {
    "collapsed": false,
    "ExecuteTime": {
     "end_time": "2023-11-16T20:20:46.452578574Z",
     "start_time": "2023-11-16T20:20:46.446307039Z"
    }
   },
   "id": "a5e81f234705ab54"
  },
  {
   "cell_type": "code",
   "execution_count": 12,
   "outputs": [
    {
     "name": "stderr",
     "output_type": "stream",
     "text": [
      "2023-11-17 09:20:50,237\tTutorialLogger\tINFO\tSkipping tutorial_waveforms/EDRZ.NZ/2023.076.EDRZ.10-EHZ.NZ.D: exists\n",
      "2023-11-17 09:20:50,237\tTutorialLogger\tINFO\tSkipping tutorial_waveforms/EDRZ.NZ/2023.076.EDRZ.10-EHN.NZ.D: exists\n",
      "2023-11-17 09:20:50,238\tTutorialLogger\tINFO\tSkipping tutorial_waveforms/EDRZ.NZ/2023.076.EDRZ.10-EHE.NZ.D: exists\n",
      "2023-11-17 09:20:50,583\tTutorialLogger\tINFO\tSkipping tutorial_waveforms/LIRZ.NZ/2023.076.LIRZ.10-EHZ.NZ.D: exists\n",
      "2023-11-17 09:20:50,584\tTutorialLogger\tINFO\tSkipping tutorial_waveforms/LIRZ.NZ/2023.076.LIRZ.10-EHN.NZ.D: exists\n",
      "2023-11-17 09:20:50,585\tTutorialLogger\tINFO\tSkipping tutorial_waveforms/LIRZ.NZ/2023.076.LIRZ.10-EHE.NZ.D: exists\n",
      "2023-11-17 09:20:50,932\tTutorialLogger\tINFO\tSkipping tutorial_waveforms/MARZ.NZ/2023.076.MARZ.10-EHZ.NZ.D: exists\n",
      "2023-11-17 09:20:50,932\tTutorialLogger\tINFO\tSkipping tutorial_waveforms/MARZ.NZ/2023.076.MARZ.10-EHN.NZ.D: exists\n",
      "2023-11-17 09:20:50,933\tTutorialLogger\tINFO\tSkipping tutorial_waveforms/MARZ.NZ/2023.076.MARZ.10-EHE.NZ.D: exists\n",
      "2023-11-17 09:20:51,282\tTutorialLogger\tINFO\tSkipping tutorial_waveforms/MKRZ.NZ/2023.076.MKRZ.10-EHZ.NZ.D: exists\n",
      "2023-11-17 09:20:51,283\tTutorialLogger\tINFO\tSkipping tutorial_waveforms/MKRZ.NZ/2023.076.MKRZ.10-EHN.NZ.D: exists\n",
      "2023-11-17 09:20:51,283\tTutorialLogger\tINFO\tSkipping tutorial_waveforms/MKRZ.NZ/2023.076.MKRZ.10-EHE.NZ.D: exists\n",
      "2023-11-17 09:20:51,632\tTutorialLogger\tINFO\tSkipping tutorial_waveforms/OMRZ.NZ/2023.076.OMRZ.10-EHZ.NZ.D: exists\n",
      "2023-11-17 09:20:51,633\tTutorialLogger\tINFO\tSkipping tutorial_waveforms/OMRZ.NZ/2023.076.OMRZ.10-EHN.NZ.D: exists\n",
      "2023-11-17 09:20:51,633\tTutorialLogger\tINFO\tSkipping tutorial_waveforms/OMRZ.NZ/2023.076.OMRZ.10-EHE.NZ.D: exists\n",
      "2023-11-17 09:20:51,736\tTutorialLogger\tINFO\tSkipping tutorial_waveforms/OPRZ.NZ/2023.076.OPRZ.10-HHZ.NZ.D: exists\n",
      "2023-11-17 09:20:51,736\tTutorialLogger\tINFO\tSkipping tutorial_waveforms/OPRZ.NZ/2023.076.OPRZ.10-HHN.NZ.D: exists\n",
      "2023-11-17 09:20:51,737\tTutorialLogger\tINFO\tSkipping tutorial_waveforms/OPRZ.NZ/2023.076.OPRZ.10-HHE.NZ.D: exists\n",
      "2023-11-17 09:20:52,363\tTutorialLogger\tINFO\tSkipping tutorial_waveforms/TARZ.NZ/2023.076.TARZ.10-EHZ.NZ.D: exists\n",
      "2023-11-17 09:20:52,363\tTutorialLogger\tINFO\tSkipping tutorial_waveforms/TARZ.NZ/2023.076.TARZ.10-EHN.NZ.D: exists\n",
      "2023-11-17 09:20:52,364\tTutorialLogger\tINFO\tSkipping tutorial_waveforms/TARZ.NZ/2023.076.TARZ.10-EHE.NZ.D: exists\n",
      "2023-11-17 09:20:53,725\tTutorialLogger\tINFO\tSkipping tutorial_waveforms/KARZ.NZ/2023.076.KARZ.10-EHZ.NZ.D: exists\n",
      "2023-11-17 09:20:53,725\tTutorialLogger\tINFO\tSkipping tutorial_waveforms/KARZ.NZ/2023.076.KARZ.10-EHN.NZ.D: exists\n",
      "2023-11-17 09:20:53,726\tTutorialLogger\tINFO\tSkipping tutorial_waveforms/KARZ.NZ/2023.076.KARZ.10-EHE.NZ.D: exists\n",
      "2023-11-17 09:20:54,081\tTutorialLogger\tINFO\tSkipping tutorial_waveforms/EDRZ.NZ/2023.077.EDRZ.10-EHZ.NZ.D: exists\n",
      "2023-11-17 09:20:54,082\tTutorialLogger\tINFO\tSkipping tutorial_waveforms/EDRZ.NZ/2023.077.EDRZ.10-EHN.NZ.D: exists\n",
      "2023-11-17 09:20:54,082\tTutorialLogger\tINFO\tSkipping tutorial_waveforms/EDRZ.NZ/2023.077.EDRZ.10-EHE.NZ.D: exists\n",
      "2023-11-17 09:20:54,429\tTutorialLogger\tINFO\tSkipping tutorial_waveforms/LIRZ.NZ/2023.077.LIRZ.10-EHZ.NZ.D: exists\n",
      "2023-11-17 09:20:54,430\tTutorialLogger\tINFO\tSkipping tutorial_waveforms/LIRZ.NZ/2023.077.LIRZ.10-EHN.NZ.D: exists\n",
      "2023-11-17 09:20:54,430\tTutorialLogger\tINFO\tSkipping tutorial_waveforms/LIRZ.NZ/2023.077.LIRZ.10-EHE.NZ.D: exists\n",
      "2023-11-17 09:20:54,775\tTutorialLogger\tINFO\tSkipping tutorial_waveforms/MARZ.NZ/2023.077.MARZ.10-EHZ.NZ.D: exists\n",
      "2023-11-17 09:20:54,775\tTutorialLogger\tINFO\tSkipping tutorial_waveforms/MARZ.NZ/2023.077.MARZ.10-EHN.NZ.D: exists\n",
      "2023-11-17 09:20:54,776\tTutorialLogger\tINFO\tSkipping tutorial_waveforms/MARZ.NZ/2023.077.MARZ.10-EHE.NZ.D: exists\n",
      "2023-11-17 09:20:55,276\tTutorialLogger\tINFO\tSkipping tutorial_waveforms/MKRZ.NZ/2023.077.MKRZ.10-EHZ.NZ.D: exists\n",
      "2023-11-17 09:20:55,276\tTutorialLogger\tINFO\tSkipping tutorial_waveforms/MKRZ.NZ/2023.077.MKRZ.10-EHN.NZ.D: exists\n",
      "2023-11-17 09:20:55,277\tTutorialLogger\tINFO\tSkipping tutorial_waveforms/MKRZ.NZ/2023.077.MKRZ.10-EHE.NZ.D: exists\n",
      "2023-11-17 09:20:55,628\tTutorialLogger\tINFO\tSkipping tutorial_waveforms/OMRZ.NZ/2023.077.OMRZ.10-EHZ.NZ.D: exists\n",
      "2023-11-17 09:20:55,629\tTutorialLogger\tINFO\tSkipping tutorial_waveforms/OMRZ.NZ/2023.077.OMRZ.10-EHN.NZ.D: exists\n",
      "2023-11-17 09:20:55,629\tTutorialLogger\tINFO\tSkipping tutorial_waveforms/OMRZ.NZ/2023.077.OMRZ.10-EHE.NZ.D: exists\n",
      "2023-11-17 09:20:55,731\tTutorialLogger\tINFO\tSkipping tutorial_waveforms/OPRZ.NZ/2023.077.OPRZ.10-HHZ.NZ.D: exists\n",
      "2023-11-17 09:20:55,732\tTutorialLogger\tINFO\tSkipping tutorial_waveforms/OPRZ.NZ/2023.077.OPRZ.10-HHN.NZ.D: exists\n",
      "2023-11-17 09:20:55,732\tTutorialLogger\tINFO\tSkipping tutorial_waveforms/OPRZ.NZ/2023.077.OPRZ.10-HHE.NZ.D: exists\n",
      "2023-11-17 09:20:56,337\tTutorialLogger\tINFO\tSkipping tutorial_waveforms/TARZ.NZ/2023.077.TARZ.10-EHZ.NZ.D: exists\n",
      "2023-11-17 09:20:56,337\tTutorialLogger\tINFO\tSkipping tutorial_waveforms/TARZ.NZ/2023.077.TARZ.10-EHN.NZ.D: exists\n",
      "2023-11-17 09:20:56,338\tTutorialLogger\tINFO\tSkipping tutorial_waveforms/TARZ.NZ/2023.077.TARZ.10-EHE.NZ.D: exists\n",
      "2023-11-17 09:20:57,683\tTutorialLogger\tINFO\tSkipping tutorial_waveforms/KARZ.NZ/2023.077.KARZ.10-EHZ.NZ.D: exists\n",
      "2023-11-17 09:20:57,684\tTutorialLogger\tINFO\tSkipping tutorial_waveforms/KARZ.NZ/2023.077.KARZ.10-EHN.NZ.D: exists\n",
      "2023-11-17 09:20:57,684\tTutorialLogger\tINFO\tSkipping tutorial_waveforms/KARZ.NZ/2023.077.KARZ.10-EHE.NZ.D: exists\n"
     ]
    }
   ],
   "source": [
    "%matplotlib inline\n",
    "\n",
    "from obspy import UTCDateTime\n",
    "\n",
    "starttime, endtime = UTCDateTime(2023, 3, 17), UTCDateTime(2023, 3, 19)\n",
    "stations = ['EDRZ', 'LIRZ', 'MARZ', 'MKRZ', 'OMRZ', 'OPRZ', 'TARZ', 'WKHS', 'HNCZ', 'KARZ']\n",
    "\n",
    "outdir = \"tutorial_waveforms\"\n",
    "\n",
    "get_geonet_data(starttime=starttime, endtime=endtime, stations=stations, outdir=outdir)"
   ],
   "metadata": {
    "collapsed": false,
    "ExecuteTime": {
     "end_time": "2023-11-16T20:20:57.788624670Z",
     "start_time": "2023-11-16T20:20:49.781096181Z"
    }
   },
   "id": "a4182117cbf6692c"
  },
  {
   "cell_type": "code",
   "execution_count": 7,
   "outputs": [
    {
     "name": "stdout",
     "output_type": "stream",
     "text": [
      "clustering.rst  matched-filter.ipynb  quick_start.ipynb  template-creation.rst\r\n",
      "mag-calc.rst    processing_flow.png   subspace.rst       waveforms\r\n"
     ]
    }
   ],
   "source": [],
   "metadata": {
    "collapsed": false,
    "ExecuteTime": {
     "end_time": "2023-11-14T23:54:30.850760283Z",
     "start_time": "2023-11-14T23:54:30.706465451Z"
    }
   },
   "id": "2386f817ee9a4579"
  },
  {
   "cell_type": "code",
   "execution_count": null,
   "outputs": [],
   "source": [],
   "metadata": {
    "collapsed": false
   },
   "id": "422d39dd855950a6"
  }
 ],
 "metadata": {
  "kernelspec": {
   "display_name": "Python 3",
   "language": "python",
   "name": "python3"
  },
  "language_info": {
   "codemirror_mode": {
    "name": "ipython",
    "version": 2
   },
   "file_extension": ".py",
   "mimetype": "text/x-python",
   "name": "python",
   "nbconvert_exporter": "python",
   "pygments_lexer": "ipython2",
   "version": "2.7.6"
  }
 },
 "nbformat": 4,
 "nbformat_minor": 5
}
