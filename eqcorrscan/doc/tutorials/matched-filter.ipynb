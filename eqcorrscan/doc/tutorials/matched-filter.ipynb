{
 "cells": [
  {
   "cell_type": "markdown",
   "source": [
    "# Matched-filters\n",
    "\n",
    "This notebook will provide a look at using EQcorrscan's Tribe objects for matched-filter detection of earthquakes.\n",
    "\n",
    "This notebook extends on the ideas covered in the [Quick Start](quick_start.ipynb) notebook. In particular this\n",
    "notebook also covers:\n",
    "1. Concurrent execution of detection workflows for more efficient compute utilisation with large datasets;\n",
    "2. Use of local waveform databases using [obsplus](https://github.com/niosh-mining/obsplus);\n",
    "3. Cross-correlation pick-correction using the `lag_calc` method."
   ],
   "metadata": {
    "collapsed": false
   },
   "id": "96a39ad3defaeedc"
  },
  {
   "cell_type": "markdown",
   "source": [
    "## Set up\n",
    "\n",
    "We are going to focus in this notebook on using local data. For examples of how to directly use data from online providers\n",
    "see the [Quick Start](quick_start.ipynb) notebook. \n",
    "\n",
    "To start off we will download some data - in your case this is likely data that you have either downloaded from one or more\n",
    "online providers, or data that you have collected yourself. At the moment we don't care how those data are organised, as long\n",
    "as you have continuous data on disk somewhere. We will use [obsplus](https://github.com/niosh-mining/obsplus) to work out\n",
    "what data are were and provide us with the data that we need when we need it.\n",
    "\n",
    "Obsplus is great and has more functionality than we expose here - if you make use of obsplus, please cite the \n",
    "paper by [Chambers et al., (2021)](https://joss.theoj.org/papers/10.21105/joss.02696).\n",
    "\n",
    "As in the [Quick Start](quick_start.ipynb) example, we will control the output level from EQcorrscan using logging."
   ],
   "metadata": {
    "collapsed": false
   },
   "id": "7c244daa3adde5ea"
  },
  {
   "cell_type": "code",
   "execution_count": 2,
   "outputs": [],
   "source": [
    "import logging\n",
    "\n",
    "logging.basicConfig(\n",
    "    level=logging.INFO,\n",
    "    format=\"%(asctime)s\\t%(name)s\\t%(levelname)s\\t%(message)s\")\n",
    "\n",
    "Logger = logging.getLogger(\"TutorialLogger\")"
   ],
   "metadata": {
    "collapsed": false,
    "ExecuteTime": {
     "end_time": "2023-11-19T21:53:37.791390721Z",
     "start_time": "2023-11-19T21:53:37.790149238Z"
    }
   },
   "id": "afb90fba397b3674"
  },
  {
   "cell_type": "markdown",
   "source": [
    "We will use the March 2023 Kawarau swarm as our case-study for this. This was an energetic swarm that\n",
    "was reported by New Zealand's GeoNet monitoring agency and discussed in a news article [here](https://www.geonet.org.nz/response/VJW80CGEPtq0JPCBHlNaR).\n",
    "\n",
    "We will use data from ten stations over a duration of two days. The swarm lasted longer than this, but\n",
    "we need to limit compute resources for this tutorial! Feel free to change the end-date below to run\n",
    "for longer.  To be kind to GeoNet and not repeatedly get data from their FDSN service we are going to get data from the AWS open data bucket. If you don't already have boto3 installed you will need to install that for this sections (`conda install boto3` or `pip install boto3`).\n",
    "\n",
    "NB: If you actually want to access the GeoNet data bucket using Python, a drop-in replacement from FDSN clients exists [here](https://github.com/calum-chamberlain/cjc-utilities/blob/main/src/cjc_utilities/get_data/geonet_aws_client.py)"
   ],
   "metadata": {
    "collapsed": false
   },
   "id": "b4baffba897550b8"
  },
  {
   "cell_type": "code",
   "execution_count": 3,
   "outputs": [],
   "source": [
    "def get_geonet_data(starttime, endtime, stations, outdir):\n",
    "    import os\n",
    "    import boto3\n",
    "    from botocore import UNSIGNED\n",
    "    from botocore.config import Config\n",
    "    \n",
    "    GEONET_AWS = \"geonet-open-data\"\n",
    "    \n",
    "    DAY_STRUCT = \"waveforms/miniseed/{date.year}/{date.year}.{date.julday:03d}\"\n",
    "    CHAN_STRUCT = (\"{station}.{network}/{date.year}.{date.julday:03d}.\"\n",
    "                  \"{station}.{location}-{channel}.{network}.D\")\n",
    "    if not os.path.isdir(outdir):\n",
    "        os.makedirs(outdir)\n",
    "    \n",
    "    bob = boto3.resource('s3', config=Config(signature_version=UNSIGNED))\n",
    "    s3 = bob.Bucket(GEONET_AWS)\n",
    "    \n",
    "    date = starttime\n",
    "    while date < endtime:\n",
    "        day_path = DAY_STRUCT.format(date=date)\n",
    "        for station in stations:\n",
    "            for instrument in \"HE\":\n",
    "                for component in \"ZNE12\":\n",
    "                    channel = f\"{instrument}H{component}\"\n",
    "                    chan_path = CHAN_STRUCT.format(\n",
    "                        station=station, network=\"NZ\",\n",
    "                        date=date, location=\"10\", channel=channel)\n",
    "                    local_path = os.path.join(outdir, chan_path)\n",
    "                    if os.path.isfile(local_path):\n",
    "                        Logger.info(f\"Skipping {local_path}: exists\")\n",
    "                        continue\n",
    "                    os.makedirs(os.path.dirname(local_path), exist_ok=True)\n",
    "                    remote = \"/\".join([day_path, chan_path])\n",
    "                    Logger.debug(f\"Downloading from {remote}\")\n",
    "                    try:\n",
    "                        s3.download_file(remote, local_path)\n",
    "                    except Exception as e:\n",
    "                        Logger.debug(f\"Could not download {remote} due to {e}\")\n",
    "                        continue\n",
    "                    Logger.info(f\"Downloaded {remote}\")\n",
    "        date += 86400"
   ],
   "metadata": {
    "collapsed": false,
    "ExecuteTime": {
     "end_time": "2023-11-19T21:53:38.244691249Z",
     "start_time": "2023-11-19T21:53:38.237395496Z"
    }
   },
   "id": "a5e81f234705ab54"
  },
  {
   "cell_type": "code",
   "execution_count": 4,
   "outputs": [
    {
     "name": "stderr",
     "output_type": "stream",
     "text": [
      "2023-11-20 10:53:41,272\tTutorialLogger\tINFO\tDownloaded waveforms/miniseed/2023/2023.076/EDRZ.NZ/2023.076.EDRZ.10-EHZ.NZ.D\n",
      "2023-11-20 10:53:41,609\tTutorialLogger\tINFO\tDownloaded waveforms/miniseed/2023/2023.076/EDRZ.NZ/2023.076.EDRZ.10-EHN.NZ.D\n",
      "2023-11-20 10:53:41,984\tTutorialLogger\tINFO\tDownloaded waveforms/miniseed/2023/2023.076/EDRZ.NZ/2023.076.EDRZ.10-EHE.NZ.D\n",
      "2023-11-20 10:53:43,140\tTutorialLogger\tINFO\tDownloaded waveforms/miniseed/2023/2023.076/LIRZ.NZ/2023.076.LIRZ.10-EHZ.NZ.D\n",
      "2023-11-20 10:53:43,570\tTutorialLogger\tINFO\tDownloaded waveforms/miniseed/2023/2023.076/LIRZ.NZ/2023.076.LIRZ.10-EHN.NZ.D\n",
      "2023-11-20 10:53:44,111\tTutorialLogger\tINFO\tDownloaded waveforms/miniseed/2023/2023.076/LIRZ.NZ/2023.076.LIRZ.10-EHE.NZ.D\n",
      "2023-11-20 10:53:45,003\tTutorialLogger\tINFO\tDownloaded waveforms/miniseed/2023/2023.076/MARZ.NZ/2023.076.MARZ.10-EHZ.NZ.D\n",
      "2023-11-20 10:53:45,484\tTutorialLogger\tINFO\tDownloaded waveforms/miniseed/2023/2023.076/MARZ.NZ/2023.076.MARZ.10-EHN.NZ.D\n",
      "2023-11-20 10:53:45,984\tTutorialLogger\tINFO\tDownloaded waveforms/miniseed/2023/2023.076/MARZ.NZ/2023.076.MARZ.10-EHE.NZ.D\n",
      "2023-11-20 10:53:47,287\tTutorialLogger\tINFO\tDownloaded waveforms/miniseed/2023/2023.076/MKRZ.NZ/2023.076.MKRZ.10-EHZ.NZ.D\n",
      "2023-11-20 10:53:47,919\tTutorialLogger\tINFO\tDownloaded waveforms/miniseed/2023/2023.076/MKRZ.NZ/2023.076.MKRZ.10-EHN.NZ.D\n",
      "2023-11-20 10:53:48,563\tTutorialLogger\tINFO\tDownloaded waveforms/miniseed/2023/2023.076/MKRZ.NZ/2023.076.MKRZ.10-EHE.NZ.D\n",
      "2023-11-20 10:53:49,369\tTutorialLogger\tINFO\tDownloaded waveforms/miniseed/2023/2023.076/OMRZ.NZ/2023.076.OMRZ.10-EHZ.NZ.D\n",
      "2023-11-20 10:53:49,868\tTutorialLogger\tINFO\tDownloaded waveforms/miniseed/2023/2023.076/OMRZ.NZ/2023.076.OMRZ.10-EHN.NZ.D\n",
      "2023-11-20 10:53:50,358\tTutorialLogger\tINFO\tDownloaded waveforms/miniseed/2023/2023.076/OMRZ.NZ/2023.076.OMRZ.10-EHE.NZ.D\n",
      "2023-11-20 10:53:50,970\tTutorialLogger\tINFO\tDownloaded waveforms/miniseed/2023/2023.076/OPRZ.NZ/2023.076.OPRZ.10-HHZ.NZ.D\n",
      "2023-11-20 10:53:51,446\tTutorialLogger\tINFO\tDownloaded waveforms/miniseed/2023/2023.076/OPRZ.NZ/2023.076.OPRZ.10-HHN.NZ.D\n",
      "2023-11-20 10:53:51,946\tTutorialLogger\tINFO\tDownloaded waveforms/miniseed/2023/2023.076/OPRZ.NZ/2023.076.OPRZ.10-HHE.NZ.D\n",
      "2023-11-20 10:53:53,000\tTutorialLogger\tINFO\tDownloaded waveforms/miniseed/2023/2023.076/TARZ.NZ/2023.076.TARZ.10-EHZ.NZ.D\n",
      "2023-11-20 10:53:53,501\tTutorialLogger\tINFO\tDownloaded waveforms/miniseed/2023/2023.076/TARZ.NZ/2023.076.TARZ.10-EHN.NZ.D\n",
      "2023-11-20 10:53:53,982\tTutorialLogger\tINFO\tDownloaded waveforms/miniseed/2023/2023.076/TARZ.NZ/2023.076.TARZ.10-EHE.NZ.D\n",
      "2023-11-20 10:53:55,900\tTutorialLogger\tINFO\tDownloaded waveforms/miniseed/2023/2023.076/KARZ.NZ/2023.076.KARZ.10-EHZ.NZ.D\n",
      "2023-11-20 10:53:56,413\tTutorialLogger\tINFO\tDownloaded waveforms/miniseed/2023/2023.076/KARZ.NZ/2023.076.KARZ.10-EHN.NZ.D\n",
      "2023-11-20 10:53:56,987\tTutorialLogger\tINFO\tDownloaded waveforms/miniseed/2023/2023.076/KARZ.NZ/2023.076.KARZ.10-EHE.NZ.D\n",
      "2023-11-20 10:53:58,276\tTutorialLogger\tINFO\tDownloaded waveforms/miniseed/2023/2023.077/EDRZ.NZ/2023.077.EDRZ.10-EHZ.NZ.D\n",
      "2023-11-20 10:53:58,604\tTutorialLogger\tINFO\tDownloaded waveforms/miniseed/2023/2023.077/EDRZ.NZ/2023.077.EDRZ.10-EHN.NZ.D\n",
      "2023-11-20 10:53:58,909\tTutorialLogger\tINFO\tDownloaded waveforms/miniseed/2023/2023.077/EDRZ.NZ/2023.077.EDRZ.10-EHE.NZ.D\n",
      "2023-11-20 10:53:59,648\tTutorialLogger\tINFO\tDownloaded waveforms/miniseed/2023/2023.077/LIRZ.NZ/2023.077.LIRZ.10-EHZ.NZ.D\n",
      "2023-11-20 10:54:00,069\tTutorialLogger\tINFO\tDownloaded waveforms/miniseed/2023/2023.077/LIRZ.NZ/2023.077.LIRZ.10-EHN.NZ.D\n",
      "2023-11-20 10:54:00,426\tTutorialLogger\tINFO\tDownloaded waveforms/miniseed/2023/2023.077/LIRZ.NZ/2023.077.LIRZ.10-EHE.NZ.D\n",
      "2023-11-20 10:54:01,145\tTutorialLogger\tINFO\tDownloaded waveforms/miniseed/2023/2023.077/MARZ.NZ/2023.077.MARZ.10-EHZ.NZ.D\n",
      "2023-11-20 10:54:01,628\tTutorialLogger\tINFO\tDownloaded waveforms/miniseed/2023/2023.077/MARZ.NZ/2023.077.MARZ.10-EHN.NZ.D\n",
      "2023-11-20 10:54:02,001\tTutorialLogger\tINFO\tDownloaded waveforms/miniseed/2023/2023.077/MARZ.NZ/2023.077.MARZ.10-EHE.NZ.D\n",
      "2023-11-20 10:54:02,748\tTutorialLogger\tINFO\tDownloaded waveforms/miniseed/2023/2023.077/MKRZ.NZ/2023.077.MKRZ.10-EHZ.NZ.D\n",
      "2023-11-20 10:54:03,084\tTutorialLogger\tINFO\tDownloaded waveforms/miniseed/2023/2023.077/MKRZ.NZ/2023.077.MKRZ.10-EHN.NZ.D\n",
      "2023-11-20 10:54:03,459\tTutorialLogger\tINFO\tDownloaded waveforms/miniseed/2023/2023.077/MKRZ.NZ/2023.077.MKRZ.10-EHE.NZ.D\n",
      "2023-11-20 10:54:04,277\tTutorialLogger\tINFO\tDownloaded waveforms/miniseed/2023/2023.077/OMRZ.NZ/2023.077.OMRZ.10-EHZ.NZ.D\n",
      "2023-11-20 10:54:04,626\tTutorialLogger\tINFO\tDownloaded waveforms/miniseed/2023/2023.077/OMRZ.NZ/2023.077.OMRZ.10-EHN.NZ.D\n",
      "2023-11-20 10:54:04,964\tTutorialLogger\tINFO\tDownloaded waveforms/miniseed/2023/2023.077/OMRZ.NZ/2023.077.OMRZ.10-EHE.NZ.D\n",
      "2023-11-20 10:54:05,489\tTutorialLogger\tINFO\tDownloaded waveforms/miniseed/2023/2023.077/OPRZ.NZ/2023.077.OPRZ.10-HHZ.NZ.D\n",
      "2023-11-20 10:54:05,972\tTutorialLogger\tINFO\tDownloaded waveforms/miniseed/2023/2023.077/OPRZ.NZ/2023.077.OPRZ.10-HHN.NZ.D\n",
      "2023-11-20 10:54:06,323\tTutorialLogger\tINFO\tDownloaded waveforms/miniseed/2023/2023.077/OPRZ.NZ/2023.077.OPRZ.10-HHE.NZ.D\n",
      "2023-11-20 10:54:07,729\tTutorialLogger\tINFO\tDownloaded waveforms/miniseed/2023/2023.077/TARZ.NZ/2023.077.TARZ.10-EHZ.NZ.D\n",
      "2023-11-20 10:54:08,075\tTutorialLogger\tINFO\tDownloaded waveforms/miniseed/2023/2023.077/TARZ.NZ/2023.077.TARZ.10-EHN.NZ.D\n",
      "2023-11-20 10:54:08,401\tTutorialLogger\tINFO\tDownloaded waveforms/miniseed/2023/2023.077/TARZ.NZ/2023.077.TARZ.10-EHE.NZ.D\n",
      "2023-11-20 10:54:14,979\tTutorialLogger\tINFO\tDownloaded waveforms/miniseed/2023/2023.077/KARZ.NZ/2023.077.KARZ.10-EHZ.NZ.D\n",
      "2023-11-20 10:54:17,242\tTutorialLogger\tINFO\tDownloaded waveforms/miniseed/2023/2023.077/KARZ.NZ/2023.077.KARZ.10-EHN.NZ.D\n",
      "2023-11-20 10:54:19,087\tTutorialLogger\tINFO\tDownloaded waveforms/miniseed/2023/2023.077/KARZ.NZ/2023.077.KARZ.10-EHE.NZ.D\n"
     ]
    }
   ],
   "source": [
    "%matplotlib inline\n",
    "\n",
    "from obspy import UTCDateTime\n",
    "\n",
    "starttime, endtime = UTCDateTime(2023, 3, 17), UTCDateTime(2023, 3, 19)\n",
    "stations = ['EDRZ', 'LIRZ', 'MARZ', 'MKRZ', 'OMRZ', 'OPRZ', 'TARZ', 'WKHS', 'HNCZ', 'KARZ']\n",
    "\n",
    "outdir = \"tutorial_waveforms\"\n",
    "\n",
    "get_geonet_data(starttime=starttime, endtime=endtime, stations=stations, outdir=outdir)"
   ],
   "metadata": {
    "collapsed": false,
    "ExecuteTime": {
     "end_time": "2023-11-19T21:54:19.192256002Z",
     "start_time": "2023-11-19T21:53:39.140490089Z"
    }
   },
   "id": "a4182117cbf6692c"
  },
  {
   "cell_type": "markdown",
   "source": [
    "Great, now we have some data. EQcorrscan is well set up to use clients for data access,\n",
    "using clients allows EQcorrscan to request the data that it needs and take care of \n",
    "overlapping chunks of data to ensure that no data are missed: network-based\n",
    "matched-filters apply a delay-and-stack step to the correlations from individual\n",
    "channels. This increases the signal-to-noise ratio of the correlation sum. However,\n",
    "because of the delay part, the stacks made at start and end of chunks of waveform\n",
    "data do not use the full network. To get around this *you should overlap your data*.\n",
    "\n",
    "If you use client-based access to data, EQcorrscan will take care of this for you.\n",
    "\n",
    "So how do you use clients for local data? Make a local database using obsplus.\n",
    "\n",
    "If you don't have obsplus installed you should install it now (`conda install obsplus`\n",
    "or `pip install obsplus`)."
   ],
   "metadata": {
    "collapsed": false
   },
   "id": "864c0532837b9fc"
  },
  {
   "cell_type": "code",
   "execution_count": 5,
   "outputs": [
    {
     "name": "stderr",
     "output_type": "stream",
     "text": [
      "2023-11-20 12:29:56,320\tnumexpr.utils\tINFO\tNote: NumExpr detected 16 cores but \"NUMEXPR_MAX_THREADS\" not set, so enforcing safe limit of 8.\n",
      "2023-11-20 12:29:56,321\tnumexpr.utils\tINFO\tNumExpr defaulting to 8 threads.\n"
     ]
    },
    {
     "data": {
      "text/plain": "   network station location channel                  starttime  \\\n0       NZ    EDRZ       10     EHE 2023-03-17 00:00:03.528394   \n1       NZ    EDRZ       10     EHN 2023-03-17 00:00:05.458394   \n2       NZ    EDRZ       10     EHZ 2023-03-17 00:00:03.528394   \n3       NZ    KARZ       10     EHE 2023-03-17 00:00:02.963130   \n4       NZ    KARZ       10     EHN 2023-03-17 00:00:00.093130   \n5       NZ    KARZ       10     EHZ 2023-03-17 00:00:05.823130   \n6       NZ    LIRZ       10     EHE 2023-03-17 00:00:01.753132   \n7       NZ    LIRZ       10     EHN 2023-03-17 00:00:02.913132   \n8       NZ    LIRZ       10     EHZ 2023-03-17 00:00:01.463132   \n9       NZ    MARZ       10     EHE 2023-03-17 00:00:01.553130   \n10      NZ    MARZ       10     EHN 2023-03-17 00:00:01.683130   \n11      NZ    MARZ       10     EHZ 2023-03-17 00:00:00.963130   \n12      NZ    MKRZ       10     EHE 2023-03-17 00:00:01.673129   \n13      NZ    MKRZ       10     EHN 2023-03-17 00:00:00.143129   \n14      NZ    MKRZ       10     EHZ 2023-03-17 00:00:00.053129   \n15      NZ    OMRZ       10     EHE 2023-03-17 00:00:02.740000   \n16      NZ    OMRZ       10     EHN 2023-03-17 00:00:00.580000   \n17      NZ    OMRZ       10     EHZ 2023-03-17 00:00:04.110000   \n18      NZ    OPRZ       10     HHE 2023-03-17 00:00:02.993132   \n19      NZ    OPRZ       10     HHN 2023-03-17 00:00:03.473132   \n20      NZ    OPRZ       10     HHZ 2023-03-17 00:00:01.963132   \n21      NZ    TARZ       10     EHE 2023-03-17 00:00:01.850000   \n22      NZ    TARZ       10     EHN 2023-03-17 00:00:00.760000   \n23      NZ    TARZ       10     EHZ 2023-03-17 00:00:00.630000   \n\n                      endtime  \n0  2023-03-19 00:00:00.098393  \n1  2023-03-19 00:00:04.518393  \n2  2023-03-19 00:00:03.588393  \n3  2023-03-19 00:00:01.273126  \n4  2023-03-19 00:00:00.303126  \n5  2023-03-19 00:00:03.653126  \n6  2023-03-19 00:00:03.523130  \n7  2023-03-19 00:00:04.253130  \n8  2023-03-19 00:00:00.313130  \n9  2023-03-19 00:00:01.593131  \n10 2023-03-19 00:00:04.163131  \n11 2023-03-19 00:00:05.063131  \n12 2023-03-19 00:00:01.763133  \n13 2023-03-19 00:00:02.463133  \n14 2023-03-19 00:00:02.363133  \n15 2023-03-19 00:00:02.470000  \n16 2023-03-19 00:00:00.550000  \n17 2023-03-19 00:00:03.820000  \n18 2023-03-19 00:00:01.243131  \n19 2023-03-19 00:00:04.443131  \n20 2023-03-19 00:00:00.143131  \n21 2023-03-19 00:00:01.580000  \n22 2023-03-19 00:00:00.820000  \n23 2023-03-19 00:00:03.830000  ",
      "text/html": "<div>\n<style scoped>\n    .dataframe tbody tr th:only-of-type {\n        vertical-align: middle;\n    }\n\n    .dataframe tbody tr th {\n        vertical-align: top;\n    }\n\n    .dataframe thead th {\n        text-align: right;\n    }\n</style>\n<table border=\"1\" class=\"dataframe\">\n  <thead>\n    <tr style=\"text-align: right;\">\n      <th></th>\n      <th>network</th>\n      <th>station</th>\n      <th>location</th>\n      <th>channel</th>\n      <th>starttime</th>\n      <th>endtime</th>\n    </tr>\n  </thead>\n  <tbody>\n    <tr>\n      <th>0</th>\n      <td>NZ</td>\n      <td>EDRZ</td>\n      <td>10</td>\n      <td>EHE</td>\n      <td>2023-03-17 00:00:03.528394</td>\n      <td>2023-03-19 00:00:00.098393</td>\n    </tr>\n    <tr>\n      <th>1</th>\n      <td>NZ</td>\n      <td>EDRZ</td>\n      <td>10</td>\n      <td>EHN</td>\n      <td>2023-03-17 00:00:05.458394</td>\n      <td>2023-03-19 00:00:04.518393</td>\n    </tr>\n    <tr>\n      <th>2</th>\n      <td>NZ</td>\n      <td>EDRZ</td>\n      <td>10</td>\n      <td>EHZ</td>\n      <td>2023-03-17 00:00:03.528394</td>\n      <td>2023-03-19 00:00:03.588393</td>\n    </tr>\n    <tr>\n      <th>3</th>\n      <td>NZ</td>\n      <td>KARZ</td>\n      <td>10</td>\n      <td>EHE</td>\n      <td>2023-03-17 00:00:02.963130</td>\n      <td>2023-03-19 00:00:01.273126</td>\n    </tr>\n    <tr>\n      <th>4</th>\n      <td>NZ</td>\n      <td>KARZ</td>\n      <td>10</td>\n      <td>EHN</td>\n      <td>2023-03-17 00:00:00.093130</td>\n      <td>2023-03-19 00:00:00.303126</td>\n    </tr>\n    <tr>\n      <th>5</th>\n      <td>NZ</td>\n      <td>KARZ</td>\n      <td>10</td>\n      <td>EHZ</td>\n      <td>2023-03-17 00:00:05.823130</td>\n      <td>2023-03-19 00:00:03.653126</td>\n    </tr>\n    <tr>\n      <th>6</th>\n      <td>NZ</td>\n      <td>LIRZ</td>\n      <td>10</td>\n      <td>EHE</td>\n      <td>2023-03-17 00:00:01.753132</td>\n      <td>2023-03-19 00:00:03.523130</td>\n    </tr>\n    <tr>\n      <th>7</th>\n      <td>NZ</td>\n      <td>LIRZ</td>\n      <td>10</td>\n      <td>EHN</td>\n      <td>2023-03-17 00:00:02.913132</td>\n      <td>2023-03-19 00:00:04.253130</td>\n    </tr>\n    <tr>\n      <th>8</th>\n      <td>NZ</td>\n      <td>LIRZ</td>\n      <td>10</td>\n      <td>EHZ</td>\n      <td>2023-03-17 00:00:01.463132</td>\n      <td>2023-03-19 00:00:00.313130</td>\n    </tr>\n    <tr>\n      <th>9</th>\n      <td>NZ</td>\n      <td>MARZ</td>\n      <td>10</td>\n      <td>EHE</td>\n      <td>2023-03-17 00:00:01.553130</td>\n      <td>2023-03-19 00:00:01.593131</td>\n    </tr>\n    <tr>\n      <th>10</th>\n      <td>NZ</td>\n      <td>MARZ</td>\n      <td>10</td>\n      <td>EHN</td>\n      <td>2023-03-17 00:00:01.683130</td>\n      <td>2023-03-19 00:00:04.163131</td>\n    </tr>\n    <tr>\n      <th>11</th>\n      <td>NZ</td>\n      <td>MARZ</td>\n      <td>10</td>\n      <td>EHZ</td>\n      <td>2023-03-17 00:00:00.963130</td>\n      <td>2023-03-19 00:00:05.063131</td>\n    </tr>\n    <tr>\n      <th>12</th>\n      <td>NZ</td>\n      <td>MKRZ</td>\n      <td>10</td>\n      <td>EHE</td>\n      <td>2023-03-17 00:00:01.673129</td>\n      <td>2023-03-19 00:00:01.763133</td>\n    </tr>\n    <tr>\n      <th>13</th>\n      <td>NZ</td>\n      <td>MKRZ</td>\n      <td>10</td>\n      <td>EHN</td>\n      <td>2023-03-17 00:00:00.143129</td>\n      <td>2023-03-19 00:00:02.463133</td>\n    </tr>\n    <tr>\n      <th>14</th>\n      <td>NZ</td>\n      <td>MKRZ</td>\n      <td>10</td>\n      <td>EHZ</td>\n      <td>2023-03-17 00:00:00.053129</td>\n      <td>2023-03-19 00:00:02.363133</td>\n    </tr>\n    <tr>\n      <th>15</th>\n      <td>NZ</td>\n      <td>OMRZ</td>\n      <td>10</td>\n      <td>EHE</td>\n      <td>2023-03-17 00:00:02.740000</td>\n      <td>2023-03-19 00:00:02.470000</td>\n    </tr>\n    <tr>\n      <th>16</th>\n      <td>NZ</td>\n      <td>OMRZ</td>\n      <td>10</td>\n      <td>EHN</td>\n      <td>2023-03-17 00:00:00.580000</td>\n      <td>2023-03-19 00:00:00.550000</td>\n    </tr>\n    <tr>\n      <th>17</th>\n      <td>NZ</td>\n      <td>OMRZ</td>\n      <td>10</td>\n      <td>EHZ</td>\n      <td>2023-03-17 00:00:04.110000</td>\n      <td>2023-03-19 00:00:03.820000</td>\n    </tr>\n    <tr>\n      <th>18</th>\n      <td>NZ</td>\n      <td>OPRZ</td>\n      <td>10</td>\n      <td>HHE</td>\n      <td>2023-03-17 00:00:02.993132</td>\n      <td>2023-03-19 00:00:01.243131</td>\n    </tr>\n    <tr>\n      <th>19</th>\n      <td>NZ</td>\n      <td>OPRZ</td>\n      <td>10</td>\n      <td>HHN</td>\n      <td>2023-03-17 00:00:03.473132</td>\n      <td>2023-03-19 00:00:04.443131</td>\n    </tr>\n    <tr>\n      <th>20</th>\n      <td>NZ</td>\n      <td>OPRZ</td>\n      <td>10</td>\n      <td>HHZ</td>\n      <td>2023-03-17 00:00:01.963132</td>\n      <td>2023-03-19 00:00:00.143131</td>\n    </tr>\n    <tr>\n      <th>21</th>\n      <td>NZ</td>\n      <td>TARZ</td>\n      <td>10</td>\n      <td>EHE</td>\n      <td>2023-03-17 00:00:01.850000</td>\n      <td>2023-03-19 00:00:01.580000</td>\n    </tr>\n    <tr>\n      <th>22</th>\n      <td>NZ</td>\n      <td>TARZ</td>\n      <td>10</td>\n      <td>EHN</td>\n      <td>2023-03-17 00:00:00.760000</td>\n      <td>2023-03-19 00:00:00.820000</td>\n    </tr>\n    <tr>\n      <th>23</th>\n      <td>NZ</td>\n      <td>TARZ</td>\n      <td>10</td>\n      <td>EHZ</td>\n      <td>2023-03-17 00:00:00.630000</td>\n      <td>2023-03-19 00:00:03.830000</td>\n    </tr>\n  </tbody>\n</table>\n</div>"
     },
     "execution_count": 5,
     "metadata": {},
     "output_type": "execute_result"
    }
   ],
   "source": [
    "from obsplus import WaveBank\n",
    "\n",
    "bank = WaveBank(outdir)\n",
    "\n",
    "bank.get_availability_df()"
   ],
   "metadata": {
    "collapsed": false,
    "ExecuteTime": {
     "end_time": "2023-11-19T23:29:57.096270651Z",
     "start_time": "2023-11-19T23:29:56.265268109Z"
    }
   },
   "id": "422d39dd855950a6"
  },
  {
   "cell_type": "markdown",
   "source": [
    "Obsplus has now scanned the waveforms that we just downloaded and made a table\n",
    "of what is there. Great. These `WaveBank` objects have a similar api to obspy\n",
    "`Client` objects, so we can use them as a drop-in replacement.\n",
    "\n",
    "Now we are nearly ready to make some templates.\n",
    "\n",
    "## Template creation\n",
    "\n",
    "To make templates you need two things:\n",
    "1. Continuous waveform data;\n",
    "2. A catalogue of events with picks.\n",
    "\n",
    "We already have (1). For (2), the catalogue of events, we could use GeoNet picked\n",
    "events, however if you have events with picks locally and want to use those\n",
    "events as templates you should save those events in a format readable by obspy.\n",
    "You can then skip ahead to read those picks back in.\n",
    "\n",
    "In the worst case scenario you have times that you know that you want your\n",
    "template to start at, but they are not in any standard format readable by obspy,\n",
    "you can construct events from scratch as below. Note in this example I am just\n",
    "populating the picks as this is all we need. You do need to be careful about\n",
    "the `waveform_id`: this should match the seed id of the continuous data\n",
    "exactly, otherwise the picks will not be used."
   ],
   "metadata": {
    "collapsed": false
   },
   "id": "9f4dd2504fb18202"
  },
  {
   "cell_type": "code",
   "execution_count": 6,
   "outputs": [],
   "source": [
    "from obspy.core.event import (\n",
    "    Catalog, Event, Pick, WaveformStreamID)\n",
    "from obspy import UTCDateTime\n",
    "    \n",
    "# Make the picks for the event:\n",
    "picks = [\n",
    "    Pick(\n",
    "        time=UTCDateTime(2023, 3, 18, 7, 46, 15, 593125),\n",
    "\t    waveform_id=WaveformStreamID(\n",
    "            network_code='NZ', station_code='MARZ', \n",
    "            channel_code='EHZ', location_code='10'),\n",
    "        phase_hint='P'),\n",
    "    Pick(\n",
    "        time=UTCDateTime(2023, 3, 18, 7, 46, 17, 633115),\n",
    "\t    waveform_id=WaveformStreamID(\n",
    "            network_code='NZ', station_code='MKRZ', \n",
    "            channel_code='EHZ', location_code='10'),\n",
    "        phase_hint='P'),\n",
    "    Pick(\n",
    "        time=UTCDateTime(2023, 3, 18, 7, 46, 18, 110000),\n",
    "\t    waveform_id=WaveformStreamID(\n",
    "            network_code='NZ', station_code='OMRZ', \n",
    "            channel_code='EHZ', location_code='10'),\n",
    "        phase_hint='P'),\n",
    "]  \n",
    "# Add as many picks as you have - you might want to loop  \n",
    "# and/or make a function to pasre your picks to obspy Picks.\n",
    "\n",
    "# Make the event\n",
    "event = Event(picks=picks)\n",
    "# Make the catalog\n",
    "catalog = Catalog([event])"
   ],
   "metadata": {
    "collapsed": false,
    "ExecuteTime": {
     "end_time": "2023-11-19T23:48:41.000550086Z",
     "start_time": "2023-11-19T23:48:40.941895116Z"
    }
   },
   "id": "cf480f12b889f227"
  },
  {
   "cell_type": "markdown",
   "source": [
    "For this example we are going to use a catalogue of events picked by GeoNet - we will download those data and write them to disk to mimic you using local files:"
   ],
   "metadata": {
    "collapsed": false
   },
   "id": "d482d389c5260ca6"
  },
  {
   "cell_type": "code",
   "execution_count": 7,
   "outputs": [],
   "source": [
    "from obspy.clients.fdsn import Client\n",
    "\n",
    "client = Client(\"GEONET\")\n",
    "\n",
    "cat = client.get_events(\n",
    "    starttime=UTCDateTime(2023, 3, 17),\n",
    "    endtime=UTCDateTime(2023, 3, 19),\n",
    "    latitude=-38.05, longitude=176.73, \n",
    "    maxradius=0.5, minmagnitude=3.0)  # Limited set of relevent events\n",
    "\n",
    "cat.write(\"tutorial_catalog.xml\", format=\"QUAKEML\")"
   ],
   "metadata": {
    "collapsed": false,
    "ExecuteTime": {
     "end_time": "2023-11-19T23:58:52.473788615Z",
     "start_time": "2023-11-19T23:58:43.120412286Z"
    }
   },
   "id": "70ec5a6c46c54884"
  },
  {
   "cell_type": "markdown",
   "source": [
    "## Template creation with local files\n",
    "\n",
    "Now that we have the events and waveforms we need, we can make our Tribe of templates.\n",
    "\n",
    "First we have to read in the events that we want to use as templates:"
   ],
   "metadata": {
    "collapsed": false
   },
   "id": "2d8590e8fd52ed0c"
  },
  {
   "cell_type": "code",
   "execution_count": 8,
   "outputs": [
    {
     "name": "stdout",
     "output_type": "stream",
     "text": [
      "49 Event(s) in Catalog:\n",
      "2023-03-17T14:29:34.921582Z | -38.067, +176.689 | 3.40 MLv | manual\n",
      "2023-03-17T14:56:17.215087Z | -38.061, +176.679 | 3.07 MLv | manual\n",
      "...\n",
      "2023-03-18T20:20:52.842474Z | -38.045, +176.734 | 3.17 MLv | manual\n",
      "2023-03-18T21:42:39.943071Z | -38.051, +176.735 | 4.25 MLv | manual\n",
      "To see all events call 'print(CatalogObject.__str__(print_all=True))'\n"
     ]
    }
   ],
   "source": [
    "from obspy import read_events\n",
    "\n",
    "cat = read_events(\"tutorial_catalog.xml\")\n",
    "print(cat)"
   ],
   "metadata": {
    "collapsed": false,
    "ExecuteTime": {
     "end_time": "2023-11-20T00:00:33.633775674Z",
     "start_time": "2023-11-20T00:00:25.227851850Z"
    }
   },
   "id": "bfce77794a5d15f8"
  },
  {
   "cell_type": "markdown",
   "source": [
    "### Pick curation\n",
    "\n",
    "You may want to limit what picks you actually use for your templates. Any picks that you provide will\n",
    "be used for cutting waveforms - this may include amplitude picks! You should not need to restrict\n",
    "what stations you have picks for, but it doesn't do any harm to.\n",
    "\n",
    "Below we select picks from the stations that we set earlier, and only P and S picks. We also limit\n",
    "to only one P and one S pick per station - you may not want to do that, but it can get messy if you\n",
    "have multiple picks of the same phase."
   ],
   "metadata": {
    "collapsed": false
   },
   "id": "d119b8c9c37581f5"
  },
  {
   "cell_type": "code",
   "execution_count": 9,
   "outputs": [],
   "source": [
    "from eqcorrscan.utils.catalog_utils import filter_picks\n",
    "\n",
    "cat = filter_picks(\n",
    "    cat, \n",
    "    stations=stations, \n",
    "    phase_hints=[\"P\", \"S\"], \n",
    "    enforce_single_pick=\"earliest\") "
   ],
   "metadata": {
    "collapsed": false,
    "ExecuteTime": {
     "end_time": "2023-11-20T02:00:24.542726732Z",
     "start_time": "2023-11-20T02:00:22.963356063Z"
    }
   },
   "id": "7d9ac720ccf4aa2f"
  }
 ],
 "metadata": {
  "kernelspec": {
   "display_name": "Python 3",
   "language": "python",
   "name": "python3"
  },
  "language_info": {
   "codemirror_mode": {
    "name": "ipython",
    "version": 2
   },
   "file_extension": ".py",
   "mimetype": "text/x-python",
   "name": "python",
   "nbconvert_exporter": "python",
   "pygments_lexer": "ipython2",
   "version": "2.7.6"
  }
 },
 "nbformat": 4,
 "nbformat_minor": 5
}
